{
 "cells": [
  {
   "cell_type": "code",
   "execution_count": 1,
   "metadata": {},
   "outputs": [],
   "source": [
    "import pandas as pd\n",
    "import numpy as np"
   ]
  },
  {
   "cell_type": "code",
   "execution_count": 10,
   "metadata": {},
   "outputs": [
    {
     "name": "stderr",
     "output_type": "stream",
     "text": [
      "C:\\Users\\steph\\anaconda3\\lib\\site-packages\\IPython\\core\\interactiveshell.py:3146: DtypeWarning: Columns (8,10) have mixed types.Specify dtype option on import or set low_memory=False.\n",
      "  has_raised = await self.run_ast_nodes(code_ast.body, cell_name,\n"
     ]
    }
   ],
   "source": [
    "path = 'DDoSdata.csv'\n",
    "df = pd.read_csv(path,\n",
    "                 sep = \",\",\n",
    "                 encoding = \"UTF-8\")"
   ]
  },
  {
   "cell_type": "code",
   "execution_count": 11,
   "metadata": {},
   "outputs": [],
   "source": [
    "df.rename(columns = {'mean':'average_dur', 'stddev':'stddev_dur', \n",
    "                              'sum':'total_dur','min':'min_dur','max':'max_dur'}, inplace = True) "
   ]
  },
  {
   "cell_type": "code",
   "execution_count": 12,
   "metadata": {},
   "outputs": [],
   "source": [
    "df.drop(['Unnamed: 0','pkSeqID', 'flgs', 'flgs_number', 'stime', 'ltime', 'state_number', 'seq', 'proto', 'proto_number', 'saddr', 'sport', 'daddr', 'dport','state','category', 'subcategory'], axis=1, inplace=True)"
   ]
  },
  {
   "cell_type": "code",
   "execution_count": 13,
   "metadata": {},
   "outputs": [],
   "source": [
    "n_linhas = 5000\n",
    "n_linhas = n_linhas - df[df.attack == 0].shape[0]\n",
    "df_atk = df[df.attack == 1].sample(n_linhas)\n",
    "df_norm = df[df.attack == 0]"
   ]
  },
  {
   "cell_type": "code",
   "execution_count": 14,
   "metadata": {},
   "outputs": [],
   "source": [
    "resumo = pd.concat([df_atk, df_norm], ignore_index = True)"
   ]
  },
  {
   "cell_type": "code",
   "execution_count": 15,
   "metadata": {},
   "outputs": [],
   "source": [
    "resumo.to_csv(r'resumo.csv', index=False)"
   ]
  },
  {
   "cell_type": "code",
   "execution_count": 70,
   "metadata": {},
   "outputs": [],
   "source": [
    "from tensorflow import keras\n",
    "model = keras.models.load_model('trained_model')"
   ]
  },
  {
   "cell_type": "code",
   "execution_count": 81,
   "metadata": {},
   "outputs": [
    {
     "data": {
      "text/html": [
       "<div>\n",
       "<style scoped>\n",
       "    .dataframe tbody tr th:only-of-type {\n",
       "        vertical-align: middle;\n",
       "    }\n",
       "\n",
       "    .dataframe tbody tr th {\n",
       "        vertical-align: top;\n",
       "    }\n",
       "\n",
       "    .dataframe thead th {\n",
       "        text-align: right;\n",
       "    }\n",
       "</style>\n",
       "<table border=\"1\" class=\"dataframe\">\n",
       "  <thead>\n",
       "    <tr style=\"text-align: right;\">\n",
       "      <th></th>\n",
       "      <th>pkts</th>\n",
       "      <th>bytes</th>\n",
       "      <th>dur</th>\n",
       "      <th>average_dur</th>\n",
       "      <th>stddev_dur</th>\n",
       "      <th>total_dur</th>\n",
       "      <th>min_dur</th>\n",
       "      <th>max_dur</th>\n",
       "      <th>spkts</th>\n",
       "      <th>dpkts</th>\n",
       "      <th>...</th>\n",
       "      <th>TnP_Per_Dport</th>\n",
       "      <th>AR_P_Proto_P_SrcIP</th>\n",
       "      <th>AR_P_Proto_P_DstIP</th>\n",
       "      <th>N_IN_Conn_P_DstIP</th>\n",
       "      <th>N_IN_Conn_P_SrcIP</th>\n",
       "      <th>AR_P_Proto_P_Sport</th>\n",
       "      <th>AR_P_Proto_P_Dport</th>\n",
       "      <th>Pkts_P_State_P_Protocol_P_DestIP</th>\n",
       "      <th>Pkts_P_State_P_Protocol_P_SrcIP</th>\n",
       "      <th>attack</th>\n",
       "    </tr>\n",
       "  </thead>\n",
       "  <tbody>\n",
       "    <tr>\n",
       "      <th>1449011</th>\n",
       "      <td>9</td>\n",
       "      <td>540</td>\n",
       "      <td>12.346483</td>\n",
       "      <td>3.200715</td>\n",
       "      <td>1.282023</td>\n",
       "      <td>9.602146</td>\n",
       "      <td>1.387671</td>\n",
       "      <td>4.112703</td>\n",
       "      <td>9</td>\n",
       "      <td>0</td>\n",
       "      <td>...</td>\n",
       "      <td>902</td>\n",
       "      <td>0.752884</td>\n",
       "      <td>0.732151</td>\n",
       "      <td>100</td>\n",
       "      <td>88</td>\n",
       "      <td>0.728953</td>\n",
       "      <td>0.732151</td>\n",
       "      <td>902</td>\n",
       "      <td>818</td>\n",
       "      <td>1</td>\n",
       "    </tr>\n",
       "  </tbody>\n",
       "</table>\n",
       "<p>1 rows × 30 columns</p>\n",
       "</div>"
      ],
      "text/plain": [
       "         pkts  bytes        dur  average_dur  stddev_dur  total_dur   min_dur  \\\n",
       "1449011     9    540  12.346483     3.200715    1.282023   9.602146  1.387671   \n",
       "\n",
       "          max_dur  spkts  dpkts  ...  TnP_Per_Dport  AR_P_Proto_P_SrcIP  \\\n",
       "1449011  4.112703      9      0  ...            902            0.752884   \n",
       "\n",
       "         AR_P_Proto_P_DstIP  N_IN_Conn_P_DstIP  N_IN_Conn_P_SrcIP  \\\n",
       "1449011            0.732151                100                 88   \n",
       "\n",
       "         AR_P_Proto_P_Sport  AR_P_Proto_P_Dport  \\\n",
       "1449011            0.728953            0.732151   \n",
       "\n",
       "         Pkts_P_State_P_Protocol_P_DestIP  Pkts_P_State_P_Protocol_P_SrcIP  \\\n",
       "1449011                               902                              818   \n",
       "\n",
       "         attack  \n",
       "1449011       1  \n",
       "\n",
       "[1 rows x 30 columns]"
      ]
     },
     "execution_count": 81,
     "metadata": {},
     "output_type": "execute_result"
    }
   ],
   "source": [
    "amostra = df.sample(1)\n",
    "x = np.array(amostra.iloc[:,:-1])\n",
    "valor_esperado_y = np.array(amostra.iloc[:,-1])\n",
    "predicao_y = model.predict(x)"
   ]
  },
  {
   "cell_type": "code",
   "execution_count": null,
   "metadata": {},
   "outputs": [],
   "source": [
    "print('X = ')"
   ]
  },
  {
   "cell_type": "code",
   "execution_count": 80,
   "metadata": {},
   "outputs": [
    {
     "name": "stdout",
     "output_type": "stream",
     "text": [
      "Predição correta: valor_esperado_y = [1]; predicao_y = [[1.]]\n"
     ]
    }
   ],
   "source": [
    "result = 'Predição correta: valor_esperado_y = {}; predicao_y = {}'.format(valor_esperado_y, predicao_y) if valor_esperado_y == predicao_y else 'Predição INCORRETA. valor_esperado_y != predicao_y'\n",
    "print(result)"
   ]
  },
  {
   "cell_type": "code",
   "execution_count": null,
   "metadata": {},
   "outputs": [],
   "source": []
  }
 ],
 "metadata": {
  "kernelspec": {
   "display_name": "Python 3",
   "language": "python",
   "name": "python3"
  }
 },
 "nbformat": 4,
 "nbformat_minor": 4
}
